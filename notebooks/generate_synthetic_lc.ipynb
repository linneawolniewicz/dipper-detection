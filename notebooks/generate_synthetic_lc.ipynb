{
 "cells": [
  {
   "cell_type": "markdown",
   "metadata": {},
   "source": [
    "# Generate synthetic lightcurves\n",
    "Sample from parameters of all 78 Gaussian Processes to generate synthetic lightcurves.\n",
    "\n",
    "\n",
    "Add uncorrelated noise by:\n",
    "   - Fit GP to each lightcurve\n",
    "   - Create histogram of residuals (how many of each amplitude)\n",
    "   - Define cutoff as 3 sigma\n",
    "   - Add all cutoff 'tails' to create an 'average' tail distribution"
   ]
  },
  {
   "cell_type": "code",
   "execution_count": null,
   "metadata": {},
   "outputs": [],
   "source": [
    "# imports\n",
    "import numpy as np\n",
    "import matplotlib.pyplot as plt\n",
    "import scipy\n",
    "from scipy.ndimage import gaussian_filter1d\n",
    "import astropy\n",
    "from astropy.io import fits\n",
    "from dipper.data_utils.utils import *"
   ]
  },
  {
   "cell_type": "code",
   "execution_count": null,
   "metadata": {},
   "outputs": [],
   "source": []
  }
 ],
 "metadata": {
  "kernelspec": {
   "display_name": "dipper_detect",
   "language": "python",
   "name": "python3"
  },
  "language_info": {
   "name": "python",
   "version": "3.12.2"
  }
 },
 "nbformat": 4,
 "nbformat_minor": 2
}
